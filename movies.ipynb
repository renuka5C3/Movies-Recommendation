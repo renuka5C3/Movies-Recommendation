{
  "nbformat": 4,
  "nbformat_minor": 0,
  "metadata": {
    "colab": {
      "name": "Untitled10.ipynb",
      "provenance": [],
      "authorship_tag": "ABX9TyOKziuWomSDCoST2MyMUVR4",
      "include_colab_link": true
    },
    "kernelspec": {
      "name": "python3",
      "display_name": "Python 3"
    },
    "language_info": {
      "name": "python"
    }
  },
  "cells": [
    {
      "cell_type": "markdown",
      "metadata": {
        "id": "view-in-github",
        "colab_type": "text"
      },
      "source": [
        "<a href=\"https://colab.research.google.com/github/renuka5C3/Movies-Recommendation/blob/main/Untitled10.ipynb\" target=\"_parent\"><img src=\"https://colab.research.google.com/assets/colab-badge.svg\" alt=\"Open In Colab\"/></a>"
      ]
    },
    {
      "cell_type": "code",
      "execution_count": 3,
      "metadata": {
        "colab": {
          "base_uri": "https://localhost:8080/"
        },
        "id": "sxSJhm9gG8Wu",
        "outputId": "cf8794d7-d6cc-42ce-c94b-746b1d4c55a7"
      },
      "outputs": [
        {
          "output_type": "stream",
          "name": "stdout",
          "text": [
            "Enter movie of your choice:\tcomedy\n",
            "\n",
            "Other movies you might be interested in:-\n",
            "\n",
            "1) Planet 51\n",
            "2) Howard the Duck\n",
            "3) Spaced Invaders\n",
            "4) Aliens in the Attic\n",
            "5) The Helix... Loaded\n",
            "6) Galaxy Quest\n",
            "7) Muppets from Space\n",
            "8) Titan A.E.\n",
            "9) Zathura: A Space Adventure\n",
            "10) Green Lantern\n",
            "11) Escape from Planet Earth\n",
            "12) The Iron Giant\n",
            "13) Mars Needs Moms\n",
            "14) Race to Witch Mountain\n",
            "15) Delgo\n",
            "16) Toy Story\n",
            "17) Final Fantasy: The Spirits Within\n",
            "18) The 5th Wave\n",
            "19) Fantasia 2000\n",
            "20) Max Keeble's Big Move\n",
            "21) The Invasion\n",
            "22) The Lost Skeleton of Cadavra\n",
            "23) What Planet Are You From?\n",
            "24) Invaders from Mars\n",
            "25) The Big Year\n",
            "26) Lifeforce\n",
            "27) Independence Daysaster\n",
            "28) Land of the Lost\n",
            "29) Mission to Mars\n",
            "30) Digimon: The Movie\n",
            "31) Barney's Great Adventure\n",
            "32) Cargo\n",
            "33) Monsters vs Aliens\n",
            "34) Sinbad: Legend of the Seven Seas\n",
            "35) Chicken Little\n",
            "36) Love the Coopers\n",
            "37) The Smurfs\n",
            "38) 9\n",
            "39) The Thief and the Cobbler\n",
            "40) My Stepmother is an Alien\n",
            "41) Home Alone\n",
            "42) Recess: School's Out\n",
            "43) Paul\n",
            "44) Lost in Space\n",
            "45) Monster House\n",
            "46) Star Wars: Clone Wars: Volume 1\n",
            "47) Treasure Planet\n",
            "48) Running Forever\n",
            "49) Earth to Echo\n",
            "50) Frankenweenie\n"
          ]
        }
      ],
      "source": [
        "import pandas as pd\n",
        "import numpy as np\n",
        "from sklearn.feature_extraction.text import CountVectorizer\n",
        "from sklearn.metrics.pairwise import cosine_similarity\n",
        "import difflib\n",
        "\n",
        "\n",
        "def title_from_index(index):\n",
        "    return movie[movie.index == index][\"title\"].values[0]\n",
        "\n",
        "def index_from_title(title):\n",
        "    title_list = movie['title'].tolist()\n",
        "    common = difflib.get_close_matches(title, title_list, 1)\n",
        "    titlesim = common[0]\n",
        "    return movie[movie.title == titlesim][\"index\"].values[0]\n",
        "\n",
        "movie = pd.read_csv(\"moviedata.csv\")\n",
        "features = ['keywords','cast','genres','director','tagline']\n",
        "for feature in features:\n",
        "    movie[feature] = movie[feature].fillna('')\n",
        "\n",
        "def combine_features(row):\n",
        "    try:\n",
        "        return row['keywords'] +\" \"+row['cast']+\" \"+row['genres']+\" \"+row['director']+\" \"+row['tagline']\n",
        "    except:\n",
        "        print (\"Error:\", row)\n",
        "\n",
        "movie[\"combined_features\"] = movie.apply(combine_features,axis=1)\n",
        "\n",
        "cv = CountVectorizer()\n",
        "count_matrix = cv.fit_transform(movie[\"combined_features\"])\n",
        "cosine_sim = cosine_similarity(count_matrix) \n",
        "\n",
        "user_movie = input(\"Enter movie of your choice:\\t\")\n",
        "movie_index = index_from_title(user_movie)\n",
        "\n",
        "similar_movies =  list(enumerate(cosine_sim[movie_index]))\n",
        "similar_movies_sorted = sorted(similar_movies,key=lambda x:x[1],reverse=True)\n",
        "i=0\n",
        "print(\"\\nOther movies you might be interested in:-\\n\")\n",
        "for rec_movie in similar_movies_sorted:\n",
        "        if(i!=0):\n",
        "            print (i,\") \",title_from_index(rec_movie[0]),sep=\"\")\n",
        "        i=i+1\n",
        "        if i>50:\n",
        "            break"
      ]
    }
  ]
}

